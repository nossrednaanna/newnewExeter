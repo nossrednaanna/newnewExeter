{
 "cells": [
  {
   "cell_type": "code",
   "execution_count": null,
   "id": "d6c68557",
   "metadata": {},
   "outputs": [],
   "source": [
    "import geopandas as gpd\n",
    "import requests # to make API calls\n",
    "import os\n",
    "from dotenv import load_dotenv\n",
    "import plotly.express as px\n",
    "import plotly.graph_objects as go\n",
    "import pandas as pd\n",
    "import geopandas as gpd\n",
    "from shapely.geometry import Point, Polygon\n",
    "from pyproj import CRS, Transformer\n",
    "\n",
    "load_dotenv()  # Load environment variables from .env file\n",
    "mapquest_API_key = os.getenv(\"mapquest_API_key\")"
   ]
  },
  {
   "cell_type": "code",
   "execution_count": null,
   "id": "4bae5295",
   "metadata": {},
   "outputs": [],
   "source": [
    "import plotly.express as px"
   ]
  },
  {
   "cell_type": "code",
   "execution_count": null,
   "id": "2a064575",
   "metadata": {},
   "outputs": [],
   "source": [
    "from urllib.request import urlopen\n",
    "import json\n",
    "with urlopen('https://raw.githubusercontent.com/plotly/datasets/master/geojson-counties-fips.json') as response:\n",
    "    counties = json.load(response)\n",
    "\n",
    "import pandas as pd\n",
    "df = pd.read_csv(\"https://raw.githubusercontent.com/plotly/datasets/master/fips-unemp-16.csv\",\n",
    "                   dtype={\"fips\": str})\n"
   ]
  },
  {
   "cell_type": "code",
   "execution_count": null,
   "id": "79c16e69",
   "metadata": {},
   "outputs": [],
   "source": [
    "df"
   ]
  },
  {
   "cell_type": "code",
   "execution_count": null,
   "id": "f9587309",
   "metadata": {},
   "outputs": [],
   "source": [
    "\n",
    "import plotly.express as px\n",
    "\n",
    "fig = px.choropleth_map(df, geojson=counties, locations='fips', color='unemp',\n",
    "                           color_continuous_scale=\"Viridis\",\n",
    "                           range_color=(0, 12),\n",
    "                           map_style=\"carto-positron\",\n",
    "                           zoom=3, center = {\"lat\": 37.0902, \"lon\": -95.7129},\n",
    "                           opacity=0.5,\n",
    "                           labels={'unemp':'unemployment rate'}\n",
    "                          )\n"
   ]
  },
  {
   "cell_type": "code",
   "execution_count": null,
   "id": "7bdf3200",
   "metadata": {},
   "outputs": [],
   "source": [
    "\n",
    "\n",
    "fig.show()"
   ]
  },
  {
   "cell_type": "code",
   "execution_count": null,
   "id": "e2b927d3",
   "metadata": {},
   "outputs": [],
   "source": [
    " # Copernicus Urban Atlas WMS/WFS service endpoints\n",
    "wfs_url = \"https://image.discomap.eea.europa.eu/arcgis/services/UrbanAtlas/UA_UrbanAtlas_2018/MapServer/WFSServer\"\n",
    "wms_url = \"https://image.discomap.eea.europa.eu/arcgis/services/UrbanAtlas/UA_UrbanAtlas_2018/MapServer/WMSServer\"\n"
   ]
  },
  {
   "cell_type": "code",
   "execution_count": null,
   "id": "f2328080",
   "metadata": {},
   "outputs": [],
   "source": [
    "gdf = gpd.read_file('/Users/annaandersson/projects_personal/newnewExeter/data/Results/UK018L3_EXETER_UA2018_v013/Data/UK018L3_EXETER_UA2018_v013.gpkg')"
   ]
  },
  {
   "cell_type": "code",
   "execution_count": null,
   "id": "4e1a4581",
   "metadata": {},
   "outputs": [],
   "source": [
    "# 1. Define Exeter city center (approx)\n",
    "# You can adjust this if you need a more precise point (Exeter Cathedral is 50.722, -3.533)\n",
    "exeter_lon, exeter_lat = -3.533, 50.722  \n",
    "\n",
    "# 2. Create a Point geometry (in WGS84)\n",
    "center_point = Point(exeter_lon, exeter_lat)\n",
    "\n",
    "# 3. Define coordinate reference systems\n",
    "crs_wgs84 = CRS(\"EPSG:4326\")  # lat/lon\n",
    "crs_uk = CRS(\"EPSG:27700\")    # British National Grid, meters\n",
    "\n",
    "# 4. Transform point to projected CRS (so buffer is in meters)\n",
    "transformer = Transformer.from_crs(crs_wgs84, crs_uk, always_xy=True)\n",
    "x, y = transformer.transform(exeter_lon, exeter_lat)\n",
    "point_projected = Point(x, y)\n",
    "\n",
    "# 5. Create a square polygon (2 km side → 1 km half-side)\n",
    "half_side = 1000  # meters\n",
    "square = Polygon([\n",
    "    (x - half_side, y - half_side),\n",
    "    (x + half_side, y - half_side),\n",
    "    (x + half_side, y + half_side),\n",
    "    (x - half_side, y + half_side)\n",
    "])\n",
    "\n",
    "# 6. Create GeoDataFrame and reproject back to WGS84 if you want to export/view on a map\n",
    "gdf_square = gpd.GeoDataFrame({\"name\": [\"Exeter 2km Square\"]}, geometry=[square], crs=crs_uk)\n",
    "gdf_square_wgs84 = gdf_square.to_crs(epsg=4326)\n"
   ]
  },
  {
   "cell_type": "code",
   "execution_count": null,
   "id": "6ccbfa5f",
   "metadata": {},
   "outputs": [],
   "source": [
    "gdf = gdf.to_crs(gdf_square.crs)\n",
    "\n",
    "# 2️⃣ Spatial join to keep only intersecting geometries\n",
    "gdf_intersections = gpd.sjoin(gdf, gdf_square, how=\"inner\", predicate=\"intersects\")\n"
   ]
  },
  {
   "cell_type": "code",
   "execution_count": null,
   "id": "c9fea2b4",
   "metadata": {},
   "outputs": [],
   "source": [
    "gdf_intersections"
   ]
  },
  {
   "cell_type": "code",
   "execution_count": null,
   "id": "d006bdcc",
   "metadata": {},
   "outputs": [],
   "source": [
    "gdf.columns"
   ]
  },
  {
   "cell_type": "code",
   "execution_count": null,
   "id": "867f72a3",
   "metadata": {},
   "outputs": [],
   "source": [
    "gdf.class_2018.unique()"
   ]
  },
  {
   "cell_type": "code",
   "execution_count": null,
   "id": "c0b46504",
   "metadata": {},
   "outputs": [],
   "source": [
    "bounds = gdf.total_bounds  # [minx, miny, maxx, maxy]\n",
    "center_lat = (bounds[1] + bounds[3]) / 2\n",
    "center_lon = (bounds[0] + bounds[2]) / 2"
   ]
  },
  {
   "cell_type": "code",
   "execution_count": null,
   "id": "4798cc4b",
   "metadata": {},
   "outputs": [],
   "source": [
    "gdf.geometry"
   ]
  },
  {
   "cell_type": "code",
   "execution_count": null,
   "id": "3113715d",
   "metadata": {},
   "outputs": [],
   "source": [
    "gdf.geometry[1]"
   ]
  },
  {
   "cell_type": "code",
   "execution_count": null,
   "id": "fe4ffaf4",
   "metadata": {},
   "outputs": [],
   "source": [
    "gdf25 = gdf.head(5).copy()"
   ]
  },
  {
   "cell_type": "code",
   "execution_count": null,
   "id": "aa6f2759",
   "metadata": {},
   "outputs": [],
   "source": [
    "fig = px.choropleth_mapbox(\n",
    "        gdf25,\n",
    "        geojson=gdf25.geometry,\n",
    "        locations=gdf25.index,\n",
    "        color='code_2018',\n",
    "        hover_data=['class_2018'],\n",
    "        mapbox_style=\"open-street-map\",\n",
    "        zoom=11,\n",
    "        center={\"lat\": center_lat, \"lon\": center_lon},\n",
    "        opacity=0.7,\n",
    "        title=f\"Exeter Urban Atlas - Land Use Classification ({'class_2018'})\"\n",
    "    )"
   ]
  },
  {
   "cell_type": "code",
   "execution_count": null,
   "id": "a5315783",
   "metadata": {},
   "outputs": [],
   "source": [
    "\n",
    "go_fig = create_go_multipolygon_map(gdf_intersections, 'code_2018')\n",
    "go_fig.show()\n"
   ]
  },
  {
   "cell_type": "code",
   "execution_count": null,
   "id": "bda241a1",
   "metadata": {},
   "outputs": [],
   "source": []
  },
  {
   "cell_type": "code",
   "execution_count": null,
   "id": "0572165b",
   "metadata": {},
   "outputs": [],
   "source": [
    "# Alternative approach: Use Plotly Graph Objects for better multipolygon control\n",
    "def create_go_multipolygon_map(gdf, color_column='code_2018'):\n",
    "    \"\"\"\n",
    "    Create map using Plotly Graph Objects for better multipolygon handling\n",
    "    \"\"\"\n",
    "    \n",
    "    # Ensure WGS84 projection\n",
    "    if gdf.crs != 'EPSG:4326':\n",
    "        gdf_plot = gdf.to_crs('EPSG:4326')\n",
    "    else:\n",
    "        gdf_plot = gdf.copy()\n",
    "    \n",
    "    # Get unique values for color mapping\n",
    "    unique_values = gdf_plot[color_column].unique()\n",
    "    colors = px.colors.qualitative.Set3 + px.colors.qualitative.Pastel + px.colors.qualitative.Dark2\n",
    "    \n",
    "    # Create color mapping\n",
    "    color_map = {val: colors[i % len(colors)] for i, val in enumerate(unique_values)}\n",
    "    \n",
    "    # Get map bounds\n",
    "    bounds = gdf_plot.total_bounds\n",
    "    center_lat = (bounds[1] + bounds[3]) / 2\n",
    "    center_lon = (bounds[0] + bounds[2]) / 2\n",
    "    \n",
    "    # Create figure\n",
    "    fig = go.Figure()\n",
    "    \n",
    "    # Add each unique class as a separate trace\n",
    "    for value in unique_values:\n",
    "        subset = gdf_plot[gdf_plot[color_column] == value]\n",
    "        \n",
    "        if len(subset) > 0:\n",
    "            # Convert subset to GeoJSON\n",
    "            geojson_subset = json.loads(subset.to_json())\n",
    "            \n",
    "            # Add trace for this class\n",
    "            fig.add_trace(go.Choroplethmapbox(\n",
    "                geojson=geojson_subset,\n",
    "                locations=list(range(len(subset))),\n",
    "                z=[1] * len(subset),  # Dummy values since we're using custom colors\n",
    "                colorscale=[[0, color_map[value]], [1, color_map[value]]],\n",
    "                showscale=False,\n",
    "                marker_opacity=0.7,\n",
    "                marker_line_width=1,\n",
    "                marker_line_color='white',\n",
    "                name=f\"{color_column}: {value}\",\n",
    "                hovertemplate=f\"<b>{color_column}:</b> {value}<br>\" +\n",
    "                             \"<b>Class:</b> %{customdata}<br>\" +\n",
    "                             \"<extra></extra>\",\n",
    "                customdata=subset['class_2018'].values if 'class_2018' in subset.columns else [f\"Code {value}\"] * len(subset)\n",
    "            ))\n",
    "    \n",
    "    # Update layout\n",
    "    fig.update_layout(\n",
    "        mapbox_style=\"open-street-map\",\n",
    "        mapbox=dict(\n",
    "            center=dict(lat=center_lat, lon=center_lon),\n",
    "            zoom=12\n",
    "        ),\n",
    "        margin={\"r\":0,\"t\":50,\"l\":0,\"b\":0},\n",
    "        height=800,\n",
    "        title=f\"Exeter Urban Atlas - {color_column} (Graph Objects Method)\",\n",
    "        showlegend=True\n",
    "    )\n",
    "    \n",
    "    return fig\n",
    "\n"
   ]
  },
  {
   "cell_type": "code",
   "execution_count": null,
   "id": "bed8b453",
   "metadata": {},
   "outputs": [],
   "source": []
  }
 ],
 "metadata": {
  "kernelspec": {
   "display_name": "venv",
   "language": "python",
   "name": "python3"
  },
  "language_info": {
   "codemirror_mode": {
    "name": "ipython",
    "version": 3
   },
   "file_extension": ".py",
   "mimetype": "text/x-python",
   "name": "python",
   "nbconvert_exporter": "python",
   "pygments_lexer": "ipython3",
   "version": "3.12.8"
  }
 },
 "nbformat": 4,
 "nbformat_minor": 5
}
